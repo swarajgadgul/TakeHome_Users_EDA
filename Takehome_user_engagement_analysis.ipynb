{
 "cells": [
  {
   "cell_type": "code",
   "execution_count": 16,
   "id": "ccdaa449",
   "metadata": {},
   "outputs": [],
   "source": [
    "import pandas as pd\n",
    "import numpy as np\n",
    "import matplotlib.pyplot as plt\n",
    "import seaborn as sns\n",
    "import plotly.express as px\n",
    "import warnings\n",
    "import datetime as dt\n",
    "\n",
    "\n",
    "%matplotlib inline\n",
    "sns.set_style('darkgrid')\n",
    "plt.rcParams['font.size'] = 14\n",
    "plt.rcParams['figure.dpi'] = 120\n",
    "warnings.filterwarnings('ignore')"
   ]
  },
  {
   "cell_type": "markdown",
   "id": "3b2adc60",
   "metadata": {},
   "source": [
    "#### Loading Dataset"
   ]
  },
  {
   "cell_type": "code",
   "execution_count": 17,
   "id": "a51e86e4",
   "metadata": {},
   "outputs": [],
   "source": [
    "df = pd.read_csv(\"C:/Users/admin/Desktop/EDA assignment/takehome_user_engagement.csv\")"
   ]
  },
  {
   "cell_type": "code",
   "execution_count": 18,
   "id": "cc4b8cd4",
   "metadata": {},
   "outputs": [
    {
     "data": {
      "text/html": [
       "<div>\n",
       "<style scoped>\n",
       "    .dataframe tbody tr th:only-of-type {\n",
       "        vertical-align: middle;\n",
       "    }\n",
       "\n",
       "    .dataframe tbody tr th {\n",
       "        vertical-align: top;\n",
       "    }\n",
       "\n",
       "    .dataframe thead th {\n",
       "        text-align: right;\n",
       "    }\n",
       "</style>\n",
       "<table border=\"1\" class=\"dataframe\">\n",
       "  <thead>\n",
       "    <tr style=\"text-align: right;\">\n",
       "      <th></th>\n",
       "      <th>time_stamp</th>\n",
       "      <th>user_id</th>\n",
       "      <th>visited</th>\n",
       "    </tr>\n",
       "  </thead>\n",
       "  <tbody>\n",
       "    <tr>\n",
       "      <th>0</th>\n",
       "      <td>2014-04-22 03:53:30</td>\n",
       "      <td>1</td>\n",
       "      <td>1</td>\n",
       "    </tr>\n",
       "    <tr>\n",
       "      <th>1</th>\n",
       "      <td>2013-11-15 03:45:04</td>\n",
       "      <td>2</td>\n",
       "      <td>1</td>\n",
       "    </tr>\n",
       "    <tr>\n",
       "      <th>2</th>\n",
       "      <td>2013-11-29 03:45:04</td>\n",
       "      <td>2</td>\n",
       "      <td>1</td>\n",
       "    </tr>\n",
       "    <tr>\n",
       "      <th>3</th>\n",
       "      <td>2013-12-09 03:45:04</td>\n",
       "      <td>2</td>\n",
       "      <td>1</td>\n",
       "    </tr>\n",
       "    <tr>\n",
       "      <th>4</th>\n",
       "      <td>2013-12-25 03:45:04</td>\n",
       "      <td>2</td>\n",
       "      <td>1</td>\n",
       "    </tr>\n",
       "  </tbody>\n",
       "</table>\n",
       "</div>"
      ],
      "text/plain": [
       "            time_stamp  user_id  visited\n",
       "0  2014-04-22 03:53:30        1        1\n",
       "1  2013-11-15 03:45:04        2        1\n",
       "2  2013-11-29 03:45:04        2        1\n",
       "3  2013-12-09 03:45:04        2        1\n",
       "4  2013-12-25 03:45:04        2        1"
      ]
     },
     "execution_count": 18,
     "metadata": {},
     "output_type": "execute_result"
    }
   ],
   "source": [
    "df.head()"
   ]
  },
  {
   "cell_type": "code",
   "execution_count": 19,
   "id": "cdacc259",
   "metadata": {},
   "outputs": [
    {
     "name": "stdout",
     "output_type": "stream",
     "text": [
      "<class 'pandas.core.frame.DataFrame'>\n",
      "RangeIndex: 207917 entries, 0 to 207916\n",
      "Data columns (total 3 columns):\n",
      " #   Column      Non-Null Count   Dtype \n",
      "---  ------      --------------   ----- \n",
      " 0   time_stamp  207917 non-null  object\n",
      " 1   user_id     207917 non-null  int64 \n",
      " 2   visited     207917 non-null  int64 \n",
      "dtypes: int64(2), object(1)\n",
      "memory usage: 4.8+ MB\n"
     ]
    }
   ],
   "source": [
    "df.info()"
   ]
  },
  {
   "cell_type": "code",
   "execution_count": 20,
   "id": "3916b1eb",
   "metadata": {},
   "outputs": [
    {
     "data": {
      "text/html": [
       "<div>\n",
       "<style scoped>\n",
       "    .dataframe tbody tr th:only-of-type {\n",
       "        vertical-align: middle;\n",
       "    }\n",
       "\n",
       "    .dataframe tbody tr th {\n",
       "        vertical-align: top;\n",
       "    }\n",
       "\n",
       "    .dataframe thead th {\n",
       "        text-align: right;\n",
       "    }\n",
       "</style>\n",
       "<table border=\"1\" class=\"dataframe\">\n",
       "  <thead>\n",
       "    <tr style=\"text-align: right;\">\n",
       "      <th></th>\n",
       "      <th>user_id</th>\n",
       "      <th>visited</th>\n",
       "    </tr>\n",
       "  </thead>\n",
       "  <tbody>\n",
       "    <tr>\n",
       "      <th>count</th>\n",
       "      <td>207917.000000</td>\n",
       "      <td>207917.0</td>\n",
       "    </tr>\n",
       "    <tr>\n",
       "      <th>mean</th>\n",
       "      <td>5913.314197</td>\n",
       "      <td>1.0</td>\n",
       "    </tr>\n",
       "    <tr>\n",
       "      <th>std</th>\n",
       "      <td>3394.941674</td>\n",
       "      <td>0.0</td>\n",
       "    </tr>\n",
       "    <tr>\n",
       "      <th>min</th>\n",
       "      <td>1.000000</td>\n",
       "      <td>1.0</td>\n",
       "    </tr>\n",
       "    <tr>\n",
       "      <th>25%</th>\n",
       "      <td>3087.000000</td>\n",
       "      <td>1.0</td>\n",
       "    </tr>\n",
       "    <tr>\n",
       "      <th>50%</th>\n",
       "      <td>5682.000000</td>\n",
       "      <td>1.0</td>\n",
       "    </tr>\n",
       "    <tr>\n",
       "      <th>75%</th>\n",
       "      <td>8944.000000</td>\n",
       "      <td>1.0</td>\n",
       "    </tr>\n",
       "    <tr>\n",
       "      <th>max</th>\n",
       "      <td>12000.000000</td>\n",
       "      <td>1.0</td>\n",
       "    </tr>\n",
       "  </tbody>\n",
       "</table>\n",
       "</div>"
      ],
      "text/plain": [
       "             user_id   visited\n",
       "count  207917.000000  207917.0\n",
       "mean     5913.314197       1.0\n",
       "std      3394.941674       0.0\n",
       "min         1.000000       1.0\n",
       "25%      3087.000000       1.0\n",
       "50%      5682.000000       1.0\n",
       "75%      8944.000000       1.0\n",
       "max     12000.000000       1.0"
      ]
     },
     "execution_count": 20,
     "metadata": {},
     "output_type": "execute_result"
    }
   ],
   "source": [
    "df.describe()"
   ]
  },
  {
   "cell_type": "code",
   "execution_count": 21,
   "id": "9a482d82",
   "metadata": {},
   "outputs": [
    {
     "data": {
      "text/plain": [
       "time_stamp    0\n",
       "user_id       0\n",
       "visited       0\n",
       "dtype: int64"
      ]
     },
     "execution_count": 21,
     "metadata": {},
     "output_type": "execute_result"
    }
   ],
   "source": [
    "df.isna().sum()"
   ]
  },
  {
   "cell_type": "markdown",
   "id": "d797709b",
   "metadata": {},
   "source": [
    "##### find year week comination"
   ]
  },
  {
   "cell_type": "code",
   "execution_count": 24,
   "id": "c5f28965",
   "metadata": {},
   "outputs": [],
   "source": [
    "# Convert time stamp column to date time format\n",
    "df.time_stamp = pd.to_datetime(df.time_stamp)"
   ]
  },
  {
   "cell_type": "code",
   "execution_count": 25,
   "id": "c19856cc",
   "metadata": {},
   "outputs": [],
   "source": [
    "# Extracting year-week combination for every date\n",
    "df['year_week'] = df['time_stamp'].dt.strftime(\"%Y-%U\")"
   ]
  },
  {
   "cell_type": "code",
   "execution_count": 26,
   "id": "d6362fdd",
   "metadata": {},
   "outputs": [],
   "source": [
    "# time\n",
    "df['time'] = df['time_stamp'].dt.strftime('%H.%M')\n",
    "# year\n",
    "df['year'] = df['time_stamp'].dt.year\n",
    "# month\n",
    "df['month'] = df['time_stamp'].dt.month"
   ]
  },
  {
   "cell_type": "code",
   "execution_count": 27,
   "id": "e6555635",
   "metadata": {},
   "outputs": [
    {
     "data": {
      "text/html": [
       "<div>\n",
       "<style scoped>\n",
       "    .dataframe tbody tr th:only-of-type {\n",
       "        vertical-align: middle;\n",
       "    }\n",
       "\n",
       "    .dataframe tbody tr th {\n",
       "        vertical-align: top;\n",
       "    }\n",
       "\n",
       "    .dataframe thead th {\n",
       "        text-align: right;\n",
       "    }\n",
       "</style>\n",
       "<table border=\"1\" class=\"dataframe\">\n",
       "  <thead>\n",
       "    <tr style=\"text-align: right;\">\n",
       "      <th></th>\n",
       "      <th>time_stamp</th>\n",
       "      <th>user_id</th>\n",
       "      <th>visited</th>\n",
       "      <th>year_week</th>\n",
       "      <th>time</th>\n",
       "      <th>year</th>\n",
       "      <th>month</th>\n",
       "    </tr>\n",
       "  </thead>\n",
       "  <tbody>\n",
       "    <tr>\n",
       "      <th>0</th>\n",
       "      <td>2014-04-22 03:53:30</td>\n",
       "      <td>1</td>\n",
       "      <td>1</td>\n",
       "      <td>2014-16</td>\n",
       "      <td>03.53</td>\n",
       "      <td>2014</td>\n",
       "      <td>4</td>\n",
       "    </tr>\n",
       "    <tr>\n",
       "      <th>1</th>\n",
       "      <td>2013-11-15 03:45:04</td>\n",
       "      <td>2</td>\n",
       "      <td>1</td>\n",
       "      <td>2013-45</td>\n",
       "      <td>03.45</td>\n",
       "      <td>2013</td>\n",
       "      <td>11</td>\n",
       "    </tr>\n",
       "    <tr>\n",
       "      <th>2</th>\n",
       "      <td>2013-11-29 03:45:04</td>\n",
       "      <td>2</td>\n",
       "      <td>1</td>\n",
       "      <td>2013-47</td>\n",
       "      <td>03.45</td>\n",
       "      <td>2013</td>\n",
       "      <td>11</td>\n",
       "    </tr>\n",
       "    <tr>\n",
       "      <th>3</th>\n",
       "      <td>2013-12-09 03:45:04</td>\n",
       "      <td>2</td>\n",
       "      <td>1</td>\n",
       "      <td>2013-49</td>\n",
       "      <td>03.45</td>\n",
       "      <td>2013</td>\n",
       "      <td>12</td>\n",
       "    </tr>\n",
       "    <tr>\n",
       "      <th>4</th>\n",
       "      <td>2013-12-25 03:45:04</td>\n",
       "      <td>2</td>\n",
       "      <td>1</td>\n",
       "      <td>2013-51</td>\n",
       "      <td>03.45</td>\n",
       "      <td>2013</td>\n",
       "      <td>12</td>\n",
       "    </tr>\n",
       "    <tr>\n",
       "      <th>...</th>\n",
       "      <td>...</td>\n",
       "      <td>...</td>\n",
       "      <td>...</td>\n",
       "      <td>...</td>\n",
       "      <td>...</td>\n",
       "      <td>...</td>\n",
       "      <td>...</td>\n",
       "    </tr>\n",
       "    <tr>\n",
       "      <th>207912</th>\n",
       "      <td>2013-09-06 06:14:15</td>\n",
       "      <td>11996</td>\n",
       "      <td>1</td>\n",
       "      <td>2013-35</td>\n",
       "      <td>06.14</td>\n",
       "      <td>2013</td>\n",
       "      <td>9</td>\n",
       "    </tr>\n",
       "    <tr>\n",
       "      <th>207913</th>\n",
       "      <td>2013-01-15 18:28:37</td>\n",
       "      <td>11997</td>\n",
       "      <td>1</td>\n",
       "      <td>2013-02</td>\n",
       "      <td>18.28</td>\n",
       "      <td>2013</td>\n",
       "      <td>1</td>\n",
       "    </tr>\n",
       "    <tr>\n",
       "      <th>207914</th>\n",
       "      <td>2014-04-27 12:45:16</td>\n",
       "      <td>11998</td>\n",
       "      <td>1</td>\n",
       "      <td>2014-17</td>\n",
       "      <td>12.45</td>\n",
       "      <td>2014</td>\n",
       "      <td>4</td>\n",
       "    </tr>\n",
       "    <tr>\n",
       "      <th>207915</th>\n",
       "      <td>2012-06-02 11:55:59</td>\n",
       "      <td>11999</td>\n",
       "      <td>1</td>\n",
       "      <td>2012-22</td>\n",
       "      <td>11.55</td>\n",
       "      <td>2012</td>\n",
       "      <td>6</td>\n",
       "    </tr>\n",
       "    <tr>\n",
       "      <th>207916</th>\n",
       "      <td>2014-01-26 08:57:12</td>\n",
       "      <td>12000</td>\n",
       "      <td>1</td>\n",
       "      <td>2014-04</td>\n",
       "      <td>08.57</td>\n",
       "      <td>2014</td>\n",
       "      <td>1</td>\n",
       "    </tr>\n",
       "  </tbody>\n",
       "</table>\n",
       "<p>207917 rows × 7 columns</p>\n",
       "</div>"
      ],
      "text/plain": [
       "                time_stamp  user_id  visited year_week   time  year  month\n",
       "0      2014-04-22 03:53:30        1        1   2014-16  03.53  2014      4\n",
       "1      2013-11-15 03:45:04        2        1   2013-45  03.45  2013     11\n",
       "2      2013-11-29 03:45:04        2        1   2013-47  03.45  2013     11\n",
       "3      2013-12-09 03:45:04        2        1   2013-49  03.45  2013     12\n",
       "4      2013-12-25 03:45:04        2        1   2013-51  03.45  2013     12\n",
       "...                    ...      ...      ...       ...    ...   ...    ...\n",
       "207912 2013-09-06 06:14:15    11996        1   2013-35  06.14  2013      9\n",
       "207913 2013-01-15 18:28:37    11997        1   2013-02  18.28  2013      1\n",
       "207914 2014-04-27 12:45:16    11998        1   2014-17  12.45  2014      4\n",
       "207915 2012-06-02 11:55:59    11999        1   2012-22  11.55  2012      6\n",
       "207916 2014-01-26 08:57:12    12000        1   2014-04  08.57  2014      1\n",
       "\n",
       "[207917 rows x 7 columns]"
      ]
     },
     "execution_count": 27,
     "metadata": {},
     "output_type": "execute_result"
    }
   ],
   "source": [
    "df"
   ]
  },
  {
   "cell_type": "code",
   "execution_count": 29,
   "id": "2f5cef33",
   "metadata": {},
   "outputs": [
    {
     "data": {
      "text/plain": [
       "2014-19    4809\n",
       "2014-20    4804\n",
       "2014-18    4747\n",
       "2014-17    4663\n",
       "2014-16    4483\n",
       "           ... \n",
       "2012-27     123\n",
       "2012-25      96\n",
       "2012-24      95\n",
       "2012-23      72\n",
       "2012-22      19\n",
       "Name: year_week, Length: 108, dtype: int64"
      ]
     },
     "execution_count": 29,
     "metadata": {},
     "output_type": "execute_result"
    }
   ],
   "source": [
    "df.year_week.value_counts()"
   ]
  },
  {
   "cell_type": "markdown",
   "id": "57a5001a",
   "metadata": {},
   "source": [
    "### Find adopted users \n",
    "\n",
    "-----\n",
    "\n",
    "- Adopted users are the users who had logged in more than 3 times in a week."
   ]
  },
  {
   "cell_type": "code",
   "execution_count": 30,
   "id": "cffd09d9",
   "metadata": {},
   "outputs": [
    {
     "data": {
      "text/html": [
       "<div>\n",
       "<style scoped>\n",
       "    .dataframe tbody tr th:only-of-type {\n",
       "        vertical-align: middle;\n",
       "    }\n",
       "\n",
       "    .dataframe tbody tr th {\n",
       "        vertical-align: top;\n",
       "    }\n",
       "\n",
       "    .dataframe thead th {\n",
       "        text-align: right;\n",
       "    }\n",
       "</style>\n",
       "<table border=\"1\" class=\"dataframe\">\n",
       "  <thead>\n",
       "    <tr style=\"text-align: right;\">\n",
       "      <th></th>\n",
       "      <th>year_week</th>\n",
       "      <th>user_id</th>\n",
       "      <th>time</th>\n",
       "      <th>freq</th>\n",
       "    </tr>\n",
       "  </thead>\n",
       "  <tbody>\n",
       "    <tr>\n",
       "      <th>0</th>\n",
       "      <td>2012-22</td>\n",
       "      <td>1693</td>\n",
       "      <td>21.58</td>\n",
       "      <td>1</td>\n",
       "    </tr>\n",
       "    <tr>\n",
       "      <th>1</th>\n",
       "      <td>2012-22</td>\n",
       "      <td>1995</td>\n",
       "      <td>13.14</td>\n",
       "      <td>1</td>\n",
       "    </tr>\n",
       "    <tr>\n",
       "      <th>2</th>\n",
       "      <td>2012-22</td>\n",
       "      <td>2120</td>\n",
       "      <td>21.42</td>\n",
       "      <td>1</td>\n",
       "    </tr>\n",
       "    <tr>\n",
       "      <th>3</th>\n",
       "      <td>2012-22</td>\n",
       "      <td>3428</td>\n",
       "      <td>15.47</td>\n",
       "      <td>1</td>\n",
       "    </tr>\n",
       "    <tr>\n",
       "      <th>4</th>\n",
       "      <td>2012-22</td>\n",
       "      <td>3514</td>\n",
       "      <td>00.28</td>\n",
       "      <td>1</td>\n",
       "    </tr>\n",
       "    <tr>\n",
       "      <th>5</th>\n",
       "      <td>2012-22</td>\n",
       "      <td>3721</td>\n",
       "      <td>09.08</td>\n",
       "      <td>1</td>\n",
       "    </tr>\n",
       "    <tr>\n",
       "      <th>6</th>\n",
       "      <td>2012-22</td>\n",
       "      <td>4584</td>\n",
       "      <td>06.37</td>\n",
       "      <td>1</td>\n",
       "    </tr>\n",
       "    <tr>\n",
       "      <th>7</th>\n",
       "      <td>2012-22</td>\n",
       "      <td>6102</td>\n",
       "      <td>00.17</td>\n",
       "      <td>1</td>\n",
       "    </tr>\n",
       "    <tr>\n",
       "      <th>8</th>\n",
       "      <td>2012-22</td>\n",
       "      <td>7170</td>\n",
       "      <td>06.23</td>\n",
       "      <td>1</td>\n",
       "    </tr>\n",
       "    <tr>\n",
       "      <th>9</th>\n",
       "      <td>2012-22</td>\n",
       "      <td>7286</td>\n",
       "      <td>09.39</td>\n",
       "      <td>1</td>\n",
       "    </tr>\n",
       "  </tbody>\n",
       "</table>\n",
       "</div>"
      ],
      "text/plain": [
       "  year_week  user_id   time  freq\n",
       "0   2012-22     1693  21.58     1\n",
       "1   2012-22     1995  13.14     1\n",
       "2   2012-22     2120  21.42     1\n",
       "3   2012-22     3428  15.47     1\n",
       "4   2012-22     3514  00.28     1\n",
       "5   2012-22     3721  09.08     1\n",
       "6   2012-22     4584  06.37     1\n",
       "7   2012-22     6102  00.17     1\n",
       "8   2012-22     7170  06.23     1\n",
       "9   2012-22     7286  09.39     1"
      ]
     },
     "execution_count": 30,
     "metadata": {},
     "output_type": "execute_result"
    }
   ],
   "source": [
    "# Find Frequency of users login time\n",
    "df3 = df.groupby(['year_week','user_id','time'])['time_stamp'].count().reset_index(name=\"freq\")\n",
    "df3.head(10)"
   ]
  },
  {
   "cell_type": "code",
   "execution_count": 31,
   "id": "ed244820",
   "metadata": {},
   "outputs": [
    {
     "data": {
      "text/html": [
       "<div>\n",
       "<style scoped>\n",
       "    .dataframe tbody tr th:only-of-type {\n",
       "        vertical-align: middle;\n",
       "    }\n",
       "\n",
       "    .dataframe tbody tr th {\n",
       "        vertical-align: top;\n",
       "    }\n",
       "\n",
       "    .dataframe thead th {\n",
       "        text-align: right;\n",
       "    }\n",
       "</style>\n",
       "<table border=\"1\" class=\"dataframe\">\n",
       "  <thead>\n",
       "    <tr style=\"text-align: right;\">\n",
       "      <th></th>\n",
       "      <th>year_week</th>\n",
       "      <th>user_id</th>\n",
       "      <th>time</th>\n",
       "      <th>freq</th>\n",
       "    </tr>\n",
       "  </thead>\n",
       "  <tbody>\n",
       "    <tr>\n",
       "      <th>89</th>\n",
       "      <td>2012-24</td>\n",
       "      <td>728</td>\n",
       "      <td>16.04</td>\n",
       "      <td>3</td>\n",
       "    </tr>\n",
       "    <tr>\n",
       "      <th>182</th>\n",
       "      <td>2012-25</td>\n",
       "      <td>1693</td>\n",
       "      <td>21.58</td>\n",
       "      <td>3</td>\n",
       "    </tr>\n",
       "    <tr>\n",
       "      <th>204</th>\n",
       "      <td>2012-25</td>\n",
       "      <td>4835</td>\n",
       "      <td>03.07</td>\n",
       "      <td>3</td>\n",
       "    </tr>\n",
       "    <tr>\n",
       "      <th>315</th>\n",
       "      <td>2012-26</td>\n",
       "      <td>6171</td>\n",
       "      <td>02.05</td>\n",
       "      <td>3</td>\n",
       "    </tr>\n",
       "    <tr>\n",
       "      <th>340</th>\n",
       "      <td>2012-26</td>\n",
       "      <td>9312</td>\n",
       "      <td>11.49</td>\n",
       "      <td>3</td>\n",
       "    </tr>\n",
       "    <tr>\n",
       "      <th>...</th>\n",
       "      <td>...</td>\n",
       "      <td>...</td>\n",
       "      <td>...</td>\n",
       "      <td>...</td>\n",
       "    </tr>\n",
       "    <tr>\n",
       "      <th>69637</th>\n",
       "      <td>2014-22</td>\n",
       "      <td>11762</td>\n",
       "      <td>23.00</td>\n",
       "      <td>3</td>\n",
       "    </tr>\n",
       "    <tr>\n",
       "      <th>69639</th>\n",
       "      <td>2014-22</td>\n",
       "      <td>11806</td>\n",
       "      <td>09.48</td>\n",
       "      <td>3</td>\n",
       "    </tr>\n",
       "    <tr>\n",
       "      <th>69640</th>\n",
       "      <td>2014-22</td>\n",
       "      <td>11836</td>\n",
       "      <td>02.40</td>\n",
       "      <td>3</td>\n",
       "    </tr>\n",
       "    <tr>\n",
       "      <th>69644</th>\n",
       "      <td>2014-22</td>\n",
       "      <td>11895</td>\n",
       "      <td>04.14</td>\n",
       "      <td>4</td>\n",
       "    </tr>\n",
       "    <tr>\n",
       "      <th>69646</th>\n",
       "      <td>2014-22</td>\n",
       "      <td>11924</td>\n",
       "      <td>23.09</td>\n",
       "      <td>4</td>\n",
       "    </tr>\n",
       "  </tbody>\n",
       "</table>\n",
       "<p>33804 rows × 4 columns</p>\n",
       "</div>"
      ],
      "text/plain": [
       "      year_week  user_id   time  freq\n",
       "89      2012-24      728  16.04     3\n",
       "182     2012-25     1693  21.58     3\n",
       "204     2012-25     4835  03.07     3\n",
       "315     2012-26     6171  02.05     3\n",
       "340     2012-26     9312  11.49     3\n",
       "...         ...      ...    ...   ...\n",
       "69637   2014-22    11762  23.00     3\n",
       "69639   2014-22    11806  09.48     3\n",
       "69640   2014-22    11836  02.40     3\n",
       "69644   2014-22    11895  04.14     4\n",
       "69646   2014-22    11924  23.09     4\n",
       "\n",
       "[33804 rows x 4 columns]"
      ]
     },
     "execution_count": 31,
     "metadata": {},
     "output_type": "execute_result"
    }
   ],
   "source": [
    "# Adopted users\n",
    "adopted_users_df = df3[df3.freq >= 3]\n",
    "adopted_users_df"
   ]
  },
  {
   "cell_type": "code",
   "execution_count": 32,
   "id": "3de96b6c",
   "metadata": {},
   "outputs": [
    {
     "name": "stdout",
     "output_type": "stream",
     "text": [
      "<class 'pandas.core.frame.DataFrame'>\n",
      "Int64Index: 33804 entries, 89 to 69646\n",
      "Data columns (total 4 columns):\n",
      " #   Column     Non-Null Count  Dtype \n",
      "---  ------     --------------  ----- \n",
      " 0   year_week  33804 non-null  object\n",
      " 1   user_id    33804 non-null  int64 \n",
      " 2   time       33804 non-null  object\n",
      " 3   freq       33804 non-null  int64 \n",
      "dtypes: int64(2), object(2)\n",
      "memory usage: 1.3+ MB\n"
     ]
    }
   ],
   "source": [
    "adopted_users_df.info()"
   ]
  },
  {
   "cell_type": "code",
   "execution_count": 33,
   "id": "f5e3b326",
   "metadata": {},
   "outputs": [],
   "source": [
    "# save\n",
    "adopted_users_df.to_csv('takehome_users_clean_2.csv')"
   ]
  },
  {
   "cell_type": "code",
   "execution_count": 34,
   "id": "701147f3",
   "metadata": {},
   "outputs": [],
   "source": [
    "adopted_users_df['time'] = adopted_users_df['time'].astype(float)"
   ]
  },
  {
   "cell_type": "code",
   "execution_count": 35,
   "id": "19e0c149",
   "metadata": {},
   "outputs": [],
   "source": [
    "def time_period(df):\n",
    "    if df.time >=0 and df.time <3:\n",
    "        return 'middle of night'\n",
    "    elif df.time >= 3 and df.time <6:\n",
    "        return 'early morning'\n",
    "    elif df.time >= 6 and df.time <9:\n",
    "        return 'morning'\n",
    "    elif df.time >=9 and df.time <12:\n",
    "        return 'late morning'\n",
    "    elif df.time >= 12 and df.time <15:\n",
    "        return 'midday-noon'\n",
    "    elif df.time >= 15 and df.time <18:\n",
    "        return 'afternoon'\n",
    "    elif df.time >= 18 and df.time < 21:\n",
    "        return 'evening'\n",
    "    elif df.time >= 21 and df.time <= 24:\n",
    "        return 'late evening - midnight'\n",
    "    \n",
    "\n",
    "adopted_users_df['time_period'] = adopted_users_df.apply(time_period, axis=1)"
   ]
  },
  {
   "cell_type": "code",
   "execution_count": 36,
   "id": "44a31de1",
   "metadata": {},
   "outputs": [
    {
     "data": {
      "text/html": [
       "<div>\n",
       "<style scoped>\n",
       "    .dataframe tbody tr th:only-of-type {\n",
       "        vertical-align: middle;\n",
       "    }\n",
       "\n",
       "    .dataframe tbody tr th {\n",
       "        vertical-align: top;\n",
       "    }\n",
       "\n",
       "    .dataframe thead th {\n",
       "        text-align: right;\n",
       "    }\n",
       "</style>\n",
       "<table border=\"1\" class=\"dataframe\">\n",
       "  <thead>\n",
       "    <tr style=\"text-align: right;\">\n",
       "      <th></th>\n",
       "      <th>year_week</th>\n",
       "      <th>user_id</th>\n",
       "      <th>time</th>\n",
       "      <th>freq</th>\n",
       "      <th>time_period</th>\n",
       "    </tr>\n",
       "  </thead>\n",
       "  <tbody>\n",
       "    <tr>\n",
       "      <th>89</th>\n",
       "      <td>2012-24</td>\n",
       "      <td>728</td>\n",
       "      <td>16.04</td>\n",
       "      <td>3</td>\n",
       "      <td>afternoon</td>\n",
       "    </tr>\n",
       "    <tr>\n",
       "      <th>182</th>\n",
       "      <td>2012-25</td>\n",
       "      <td>1693</td>\n",
       "      <td>21.58</td>\n",
       "      <td>3</td>\n",
       "      <td>late evening - midnight</td>\n",
       "    </tr>\n",
       "    <tr>\n",
       "      <th>204</th>\n",
       "      <td>2012-25</td>\n",
       "      <td>4835</td>\n",
       "      <td>3.07</td>\n",
       "      <td>3</td>\n",
       "      <td>early morning</td>\n",
       "    </tr>\n",
       "    <tr>\n",
       "      <th>315</th>\n",
       "      <td>2012-26</td>\n",
       "      <td>6171</td>\n",
       "      <td>2.05</td>\n",
       "      <td>3</td>\n",
       "      <td>middle of night</td>\n",
       "    </tr>\n",
       "    <tr>\n",
       "      <th>340</th>\n",
       "      <td>2012-26</td>\n",
       "      <td>9312</td>\n",
       "      <td>11.49</td>\n",
       "      <td>3</td>\n",
       "      <td>late morning</td>\n",
       "    </tr>\n",
       "    <tr>\n",
       "      <th>361</th>\n",
       "      <td>2012-27</td>\n",
       "      <td>69</td>\n",
       "      <td>10.15</td>\n",
       "      <td>4</td>\n",
       "      <td>late morning</td>\n",
       "    </tr>\n",
       "    <tr>\n",
       "      <th>391</th>\n",
       "      <td>2012-27</td>\n",
       "      <td>3623</td>\n",
       "      <td>14.34</td>\n",
       "      <td>3</td>\n",
       "      <td>midday-noon</td>\n",
       "    </tr>\n",
       "    <tr>\n",
       "      <th>403</th>\n",
       "      <td>2012-27</td>\n",
       "      <td>5297</td>\n",
       "      <td>17.32</td>\n",
       "      <td>3</td>\n",
       "      <td>afternoon</td>\n",
       "    </tr>\n",
       "    <tr>\n",
       "      <th>419</th>\n",
       "      <td>2012-27</td>\n",
       "      <td>6978</td>\n",
       "      <td>15.25</td>\n",
       "      <td>3</td>\n",
       "      <td>afternoon</td>\n",
       "    </tr>\n",
       "    <tr>\n",
       "      <th>424</th>\n",
       "      <td>2012-27</td>\n",
       "      <td>7590</td>\n",
       "      <td>0.51</td>\n",
       "      <td>3</td>\n",
       "      <td>middle of night</td>\n",
       "    </tr>\n",
       "    <tr>\n",
       "      <th>446</th>\n",
       "      <td>2012-27</td>\n",
       "      <td>9510</td>\n",
       "      <td>6.20</td>\n",
       "      <td>3</td>\n",
       "      <td>morning</td>\n",
       "    </tr>\n",
       "    <tr>\n",
       "      <th>466</th>\n",
       "      <td>2012-28</td>\n",
       "      <td>510</td>\n",
       "      <td>10.27</td>\n",
       "      <td>4</td>\n",
       "      <td>late morning</td>\n",
       "    </tr>\n",
       "    <tr>\n",
       "      <th>472</th>\n",
       "      <td>2012-28</td>\n",
       "      <td>1280</td>\n",
       "      <td>2.51</td>\n",
       "      <td>3</td>\n",
       "      <td>middle of night</td>\n",
       "    </tr>\n",
       "    <tr>\n",
       "      <th>497</th>\n",
       "      <td>2012-28</td>\n",
       "      <td>3623</td>\n",
       "      <td>14.34</td>\n",
       "      <td>3</td>\n",
       "      <td>midday-noon</td>\n",
       "    </tr>\n",
       "    <tr>\n",
       "      <th>529</th>\n",
       "      <td>2012-28</td>\n",
       "      <td>6978</td>\n",
       "      <td>15.25</td>\n",
       "      <td>4</td>\n",
       "      <td>afternoon</td>\n",
       "    </tr>\n",
       "  </tbody>\n",
       "</table>\n",
       "</div>"
      ],
      "text/plain": [
       "    year_week  user_id   time  freq              time_period\n",
       "89    2012-24      728  16.04     3                afternoon\n",
       "182   2012-25     1693  21.58     3  late evening - midnight\n",
       "204   2012-25     4835   3.07     3            early morning\n",
       "315   2012-26     6171   2.05     3          middle of night\n",
       "340   2012-26     9312  11.49     3             late morning\n",
       "361   2012-27       69  10.15     4             late morning\n",
       "391   2012-27     3623  14.34     3              midday-noon\n",
       "403   2012-27     5297  17.32     3                afternoon\n",
       "419   2012-27     6978  15.25     3                afternoon\n",
       "424   2012-27     7590   0.51     3          middle of night\n",
       "446   2012-27     9510   6.20     3                  morning\n",
       "466   2012-28      510  10.27     4             late morning\n",
       "472   2012-28     1280   2.51     3          middle of night\n",
       "497   2012-28     3623  14.34     3              midday-noon\n",
       "529   2012-28     6978  15.25     4                afternoon"
      ]
     },
     "execution_count": 36,
     "metadata": {},
     "output_type": "execute_result"
    }
   ],
   "source": [
    "adopted_users_df.head(15)"
   ]
  },
  {
   "cell_type": "markdown",
   "id": "5c9c0bfe",
   "metadata": {},
   "source": [
    "### Save the DataFrame to a csv file\n"
   ]
  },
  {
   "cell_type": "code",
   "execution_count": 37,
   "id": "c797f9a9",
   "metadata": {},
   "outputs": [
    {
     "name": "stdout",
     "output_type": "stream",
     "text": [
      "A new csv file has been generated.../\n"
     ]
    }
   ],
   "source": [
    "# Save the dataframe\n",
    "adopted_users_df.to_csv(\"Adopted_users.csv\")\n",
    "\n",
    "print(\"A new csv file has been generated.../\")"
   ]
  },
  {
   "cell_type": "code",
   "execution_count": 38,
   "id": "3e973e23",
   "metadata": {},
   "outputs": [],
   "source": [
    "### Analysis"
   ]
  },
  {
   "cell_type": "code",
   "execution_count": 39,
   "id": "4d79f2e9",
   "metadata": {},
   "outputs": [],
   "source": [
    "#### Number of users frequently visited the service site,"
   ]
  },
  {
   "cell_type": "code",
   "execution_count": 40,
   "id": "b32fcfe9",
   "metadata": {},
   "outputs": [
    {
     "ename": "NameError",
     "evalue": "name 'df2' is not defined",
     "output_type": "error",
     "traceback": [
      "\u001b[1;31m---------------------------------------------------------------------------\u001b[0m",
      "\u001b[1;31mNameError\u001b[0m                                 Traceback (most recent call last)",
      "\u001b[1;32m<ipython-input-40-2f66b0aae6b6>\u001b[0m in \u001b[0;36m<module>\u001b[1;34m\u001b[0m\n\u001b[1;32m----> 1\u001b[1;33m \u001b[0mdf2\u001b[0m\u001b[1;33m.\u001b[0m\u001b[0mcolumns\u001b[0m\u001b[1;33m\u001b[0m\u001b[1;33m\u001b[0m\u001b[0m\n\u001b[0m",
      "\u001b[1;31mNameError\u001b[0m: name 'df2' is not defined"
     ]
    }
   ],
   "source": [
    "df2.columns"
   ]
  },
  {
   "cell_type": "code",
   "execution_count": null,
   "id": "351dc7f0",
   "metadata": {},
   "outputs": [],
   "source": [
    "# Number of active users\n",
    "df2.user_id.nunique()"
   ]
  },
  {
   "cell_type": "code",
   "execution_count": null,
   "id": "3ef57ace",
   "metadata": {},
   "outputs": [],
   "source": [
    "# percentage of active users\n",
    "round((df2.user_id.nunique() / df1.object_id.nunique()) * 100, 2)"
   ]
  },
  {
   "cell_type": "code",
   "execution_count": null,
   "id": "4454aee1",
   "metadata": {},
   "outputs": [],
   "source": [
    "# Extract month and year from timestamp\n",
    "df2['year'] = df2.time_stamp.dt.year\n",
    "df2['month'] = df2.time_stamp.dt.month"
   ]
  },
  {
   "cell_type": "code",
   "execution_count": 41,
   "id": "f15f362d",
   "metadata": {},
   "outputs": [
    {
     "ename": "NameError",
     "evalue": "name 'df2' is not defined",
     "output_type": "error",
     "traceback": [
      "\u001b[1;31m---------------------------------------------------------------------------\u001b[0m",
      "\u001b[1;31mNameError\u001b[0m                                 Traceback (most recent call last)",
      "\u001b[1;32m<ipython-input-41-68302b2f4bd0>\u001b[0m in \u001b[0;36m<module>\u001b[1;34m\u001b[0m\n\u001b[1;32m----> 1\u001b[1;33m \u001b[0mdf2\u001b[0m\u001b[1;33m.\u001b[0m\u001b[0mhead\u001b[0m\u001b[1;33m(\u001b[0m\u001b[1;33m)\u001b[0m\u001b[1;33m\u001b[0m\u001b[1;33m\u001b[0m\u001b[0m\n\u001b[0m",
      "\u001b[1;31mNameError\u001b[0m: name 'df2' is not defined"
     ]
    }
   ],
   "source": [
    "df2.head()"
   ]
  },
  {
   "cell_type": "code",
   "execution_count": 42,
   "id": "3e50d282",
   "metadata": {},
   "outputs": [
    {
     "ename": "NameError",
     "evalue": "name 'df2' is not defined",
     "output_type": "error",
     "traceback": [
      "\u001b[1;31m---------------------------------------------------------------------------\u001b[0m",
      "\u001b[1;31mNameError\u001b[0m                                 Traceback (most recent call last)",
      "\u001b[1;32m<ipython-input-42-2c04ce444819>\u001b[0m in \u001b[0;36m<module>\u001b[1;34m\u001b[0m\n\u001b[1;32m----> 1\u001b[1;33m \u001b[0msns\u001b[0m\u001b[1;33m.\u001b[0m\u001b[0mFacetGrid\u001b[0m\u001b[1;33m(\u001b[0m\u001b[0mdf2\u001b[0m\u001b[1;33m,\u001b[0m \u001b[0mhue\u001b[0m\u001b[1;33m=\u001b[0m\u001b[1;34m'year'\u001b[0m\u001b[1;33m,\u001b[0m \u001b[0maspect\u001b[0m\u001b[1;33m=\u001b[0m\u001b[1;36m4\u001b[0m\u001b[1;33m)\u001b[0m\u001b[1;33m.\u001b[0m\u001b[0mmap\u001b[0m\u001b[1;33m(\u001b[0m\u001b[0msns\u001b[0m\u001b[1;33m.\u001b[0m\u001b[0mkdeplot\u001b[0m\u001b[1;33m,\u001b[0m \u001b[1;34m'month'\u001b[0m\u001b[1;33m,\u001b[0m \u001b[0mshade\u001b[0m\u001b[1;33m=\u001b[0m\u001b[1;32mTrue\u001b[0m\u001b[1;33m)\u001b[0m\u001b[1;33m\u001b[0m\u001b[1;33m\u001b[0m\u001b[0m\n\u001b[0m\u001b[0;32m      2\u001b[0m \u001b[0mplt\u001b[0m\u001b[1;33m.\u001b[0m\u001b[0mlegend\u001b[0m\u001b[1;33m(\u001b[0m\u001b[0mlabels\u001b[0m\u001b[1;33m=\u001b[0m\u001b[1;33m[\u001b[0m\u001b[1;36m2012\u001b[0m\u001b[1;33m,\u001b[0m \u001b[1;36m2013\u001b[0m\u001b[1;33m,\u001b[0m \u001b[1;36m2014\u001b[0m\u001b[1;33m]\u001b[0m\u001b[1;33m)\u001b[0m\u001b[1;33m\u001b[0m\u001b[1;33m\u001b[0m\u001b[0m\n\u001b[0;32m      3\u001b[0m \u001b[0mplt\u001b[0m\u001b[1;33m.\u001b[0m\u001b[0mtitle\u001b[0m\u001b[1;33m(\u001b[0m\u001b[1;34m\"Distribution of active users over the year\"\u001b[0m\u001b[1;33m)\u001b[0m\u001b[1;33m\u001b[0m\u001b[1;33m\u001b[0m\u001b[0m\n\u001b[0;32m      4\u001b[0m \u001b[0mplt\u001b[0m\u001b[1;33m.\u001b[0m\u001b[0mshow\u001b[0m\u001b[1;33m(\u001b[0m\u001b[1;33m)\u001b[0m\u001b[1;33m\u001b[0m\u001b[1;33m\u001b[0m\u001b[0m\n",
      "\u001b[1;31mNameError\u001b[0m: name 'df2' is not defined"
     ]
    }
   ],
   "source": [
    "sns.FacetGrid(df2, hue='year', aspect=4).map(sns.kdeplot, 'month', shade=True)\n",
    "plt.legend(labels=[2012, 2013, 2014])\n",
    "plt.title(\"Distribution of active users over the year\")\n",
    "plt.show()"
   ]
  },
  {
   "cell_type": "code",
   "execution_count": 43,
   "id": "bd5b0b1e",
   "metadata": {},
   "outputs": [],
   "source": [
    "#### Adopted Users"
   ]
  },
  {
   "cell_type": "code",
   "execution_count": 44,
   "id": "50d36716",
   "metadata": {},
   "outputs": [
    {
     "data": {
      "text/plain": [
       "1432"
      ]
     },
     "execution_count": 44,
     "metadata": {},
     "output_type": "execute_result"
    }
   ],
   "source": [
    "# Total Number of adopted users\n",
    "adopted_users_df.user_id.nunique()"
   ]
  },
  {
   "cell_type": "code",
   "execution_count": 56,
   "id": "dc300820",
   "metadata": {},
   "outputs": [
    {
     "ename": "TypeError",
     "evalue": "type tuple doesn't define __round__ method",
     "output_type": "error",
     "traceback": [
      "\u001b[1;31m---------------------------------------------------------------------------\u001b[0m",
      "\u001b[1;31mTypeError\u001b[0m                                 Traceback (most recent call last)",
      "\u001b[1;32m<ipython-input-56-3d421c34efbf>\u001b[0m in \u001b[0;36m<module>\u001b[1;34m\u001b[0m\n\u001b[0;32m      1\u001b[0m \u001b[1;31m# Percentage of adopted users\u001b[0m\u001b[1;33m\u001b[0m\u001b[1;33m\u001b[0m\u001b[1;33m\u001b[0m\u001b[0m\n\u001b[1;32m----> 2\u001b[1;33m \u001b[0mround\u001b[0m\u001b[1;33m(\u001b[0m\u001b[1;33m(\u001b[0m\u001b[0madopted_users_df\u001b[0m\u001b[1;33m.\u001b[0m\u001b[0muser_id\u001b[0m\u001b[1;33m.\u001b[0m\u001b[0mnunique\u001b[0m\u001b[1;33m(\u001b[0m\u001b[1;33m)\u001b[0m \u001b[1;33m/\u001b[0m \u001b[0mdf\u001b[0m\u001b[1;33m.\u001b[0m\u001b[0mshape\u001b[0m\u001b[1;33m[\u001b[0m\u001b[1;36m0\u001b[0m\u001b[1;33m]\u001b[0m \u001b[1;33m*\u001b[0m \u001b[1;36m100\u001b[0m\u001b[1;33m,\u001b[0m \u001b[1;36m2\u001b[0m\u001b[1;33m)\u001b[0m\u001b[1;33m)\u001b[0m\u001b[1;33m\u001b[0m\u001b[1;33m\u001b[0m\u001b[0m\n\u001b[0m",
      "\u001b[1;31mTypeError\u001b[0m: type tuple doesn't define __round__ method"
     ]
    }
   ],
   "source": [
    "# Percentage of adopted users\n",
    "round((adopted_users_df.user_id.nunique() / df.shape[0] * 100, 2))"
   ]
  },
  {
   "cell_type": "code",
   "execution_count": 46,
   "id": "c570cfa3",
   "metadata": {},
   "outputs": [
    {
     "data": {
      "text/plain": [
       "3    9592\n",
       "4    7484\n",
       "7    6549\n",
       "5    5667\n",
       "6    4512\n",
       "Name: freq, dtype: int64"
      ]
     },
     "execution_count": 46,
     "metadata": {},
     "output_type": "execute_result"
    }
   ],
   "source": [
    "# Frequency in adopted user\n",
    "adopted_users_df.freq.value_counts()"
   ]
  },
  {
   "cell_type": "code",
   "execution_count": 47,
   "id": "4e8e0f7c",
   "metadata": {},
   "outputs": [
    {
     "data": {
      "image/png": "[encoded data removed]",
      "text/plain": [
       "<Figure size 720x480 with 1 Axes>"
      ]
     },
     "metadata": {},
     "output_type": "display_data"
    }
   ],
   "source": [
    "# Bar chart for adopted users\n",
    "adopted_users_df.freq.value_counts().plot(kind='bar', stacked=True, colormap='Dark2')\n",
    "plt.title(\"Number of Adopted Users (per login frequency)\")\n",
    "plt.xlabel(\"Login frequency per week\")\n",
    "plt.ylabel(\"Number of users\")\n",
    "plt.show()"
   ]
  },
  {
   "cell_type": "code",
   "execution_count": 48,
   "id": "917ce929",
   "metadata": {},
   "outputs": [
    {
     "data": {
      "image/png": "[encoded data removed]",
      "text/plain": [
       "<Figure size 960x720 with 1 Axes>"
      ]
     },
     "metadata": {},
     "output_type": "display_data"
    }
   ],
   "source": [
    "# Pie Chart for adopted Users\n",
    "fig = plt.figure(figsize=(8,6))\n",
    "adopted_users_df.freq.value_counts().plot(kind='pie', autopct='%1.1f%%', explode=(.1, 0, 0, 0, 0.07), shadow=True)\n",
    "plt.title(\"Pie chart of Adopted Users\")\n",
    "plt.legend()\n",
    "plt.ylabel('')\n",
    "plt.show()"
   ]
  },
  {
   "cell_type": "code",
   "execution_count": 49,
   "id": "76ae9306",
   "metadata": {},
   "outputs": [
    {
     "data": {
      "text/html": [
       "<div>\n",
       "<style scoped>\n",
       "    .dataframe tbody tr th:only-of-type {\n",
       "        vertical-align: middle;\n",
       "    }\n",
       "\n",
       "    .dataframe tbody tr th {\n",
       "        vertical-align: top;\n",
       "    }\n",
       "\n",
       "    .dataframe thead th {\n",
       "        text-align: right;\n",
       "    }\n",
       "</style>\n",
       "<table border=\"1\" class=\"dataframe\">\n",
       "  <thead>\n",
       "    <tr style=\"text-align: right;\">\n",
       "      <th></th>\n",
       "      <th>year_week</th>\n",
       "      <th>user_id</th>\n",
       "      <th>time</th>\n",
       "      <th>freq</th>\n",
       "      <th>time_period</th>\n",
       "    </tr>\n",
       "  </thead>\n",
       "  <tbody>\n",
       "    <tr>\n",
       "      <th>89</th>\n",
       "      <td>2012-24</td>\n",
       "      <td>728</td>\n",
       "      <td>16.04</td>\n",
       "      <td>3</td>\n",
       "      <td>afternoon</td>\n",
       "    </tr>\n",
       "    <tr>\n",
       "      <th>182</th>\n",
       "      <td>2012-25</td>\n",
       "      <td>1693</td>\n",
       "      <td>21.58</td>\n",
       "      <td>3</td>\n",
       "      <td>late evening - midnight</td>\n",
       "    </tr>\n",
       "    <tr>\n",
       "      <th>204</th>\n",
       "      <td>2012-25</td>\n",
       "      <td>4835</td>\n",
       "      <td>3.07</td>\n",
       "      <td>3</td>\n",
       "      <td>early morning</td>\n",
       "    </tr>\n",
       "    <tr>\n",
       "      <th>315</th>\n",
       "      <td>2012-26</td>\n",
       "      <td>6171</td>\n",
       "      <td>2.05</td>\n",
       "      <td>3</td>\n",
       "      <td>middle of night</td>\n",
       "    </tr>\n",
       "    <tr>\n",
       "      <th>340</th>\n",
       "      <td>2012-26</td>\n",
       "      <td>9312</td>\n",
       "      <td>11.49</td>\n",
       "      <td>3</td>\n",
       "      <td>late morning</td>\n",
       "    </tr>\n",
       "    <tr>\n",
       "      <th>...</th>\n",
       "      <td>...</td>\n",
       "      <td>...</td>\n",
       "      <td>...</td>\n",
       "      <td>...</td>\n",
       "      <td>...</td>\n",
       "    </tr>\n",
       "    <tr>\n",
       "      <th>69637</th>\n",
       "      <td>2014-22</td>\n",
       "      <td>11762</td>\n",
       "      <td>23.00</td>\n",
       "      <td>3</td>\n",
       "      <td>late evening - midnight</td>\n",
       "    </tr>\n",
       "    <tr>\n",
       "      <th>69639</th>\n",
       "      <td>2014-22</td>\n",
       "      <td>11806</td>\n",
       "      <td>9.48</td>\n",
       "      <td>3</td>\n",
       "      <td>late morning</td>\n",
       "    </tr>\n",
       "    <tr>\n",
       "      <th>69640</th>\n",
       "      <td>2014-22</td>\n",
       "      <td>11836</td>\n",
       "      <td>2.40</td>\n",
       "      <td>3</td>\n",
       "      <td>middle of night</td>\n",
       "    </tr>\n",
       "    <tr>\n",
       "      <th>69644</th>\n",
       "      <td>2014-22</td>\n",
       "      <td>11895</td>\n",
       "      <td>4.14</td>\n",
       "      <td>4</td>\n",
       "      <td>early morning</td>\n",
       "    </tr>\n",
       "    <tr>\n",
       "      <th>69646</th>\n",
       "      <td>2014-22</td>\n",
       "      <td>11924</td>\n",
       "      <td>23.09</td>\n",
       "      <td>4</td>\n",
       "      <td>late evening - midnight</td>\n",
       "    </tr>\n",
       "  </tbody>\n",
       "</table>\n",
       "<p>33804 rows × 5 columns</p>\n",
       "</div>"
      ],
      "text/plain": [
       "      year_week  user_id   time  freq              time_period\n",
       "89      2012-24      728  16.04     3                afternoon\n",
       "182     2012-25     1693  21.58     3  late evening - midnight\n",
       "204     2012-25     4835   3.07     3            early morning\n",
       "315     2012-26     6171   2.05     3          middle of night\n",
       "340     2012-26     9312  11.49     3             late morning\n",
       "...         ...      ...    ...   ...                      ...\n",
       "69637   2014-22    11762  23.00     3  late evening - midnight\n",
       "69639   2014-22    11806   9.48     3             late morning\n",
       "69640   2014-22    11836   2.40     3          middle of night\n",
       "69644   2014-22    11895   4.14     4            early morning\n",
       "69646   2014-22    11924  23.09     4  late evening - midnight\n",
       "\n",
       "[33804 rows x 5 columns]"
      ]
     },
     "execution_count": 49,
     "metadata": {},
     "output_type": "execute_result"
    }
   ],
   "source": [
    "adopted_users_df"
   ]
  },
  {
   "cell_type": "code",
   "execution_count": 50,
   "id": "14086be8",
   "metadata": {},
   "outputs": [
    {
     "data": {
      "text/plain": [
       "Index(['year_week', 'user_id', 'time', 'freq', 'time_period'], dtype='object')"
      ]
     },
     "execution_count": 50,
     "metadata": {},
     "output_type": "execute_result"
    }
   ],
   "source": [
    "adopted_users_df.columns"
   ]
  },
  {
   "cell_type": "code",
   "execution_count": 51,
   "id": "e422b646",
   "metadata": {},
   "outputs": [
    {
     "data": {
      "text/html": [
       "<div>\n",
       "<style scoped>\n",
       "    .dataframe tbody tr th:only-of-type {\n",
       "        vertical-align: middle;\n",
       "    }\n",
       "\n",
       "    .dataframe tbody tr th {\n",
       "        vertical-align: top;\n",
       "    }\n",
       "\n",
       "    .dataframe thead th {\n",
       "        text-align: right;\n",
       "    }\n",
       "</style>\n",
       "<table border=\"1\" class=\"dataframe\">\n",
       "  <thead>\n",
       "    <tr style=\"text-align: right;\">\n",
       "      <th></th>\n",
       "      <th>index</th>\n",
       "      <th>time_period</th>\n",
       "    </tr>\n",
       "  </thead>\n",
       "  <tbody>\n",
       "    <tr>\n",
       "      <th>0</th>\n",
       "      <td>afternoon</td>\n",
       "      <td>4586</td>\n",
       "    </tr>\n",
       "    <tr>\n",
       "      <th>1</th>\n",
       "      <td>evening</td>\n",
       "      <td>4539</td>\n",
       "    </tr>\n",
       "    <tr>\n",
       "      <th>2</th>\n",
       "      <td>late evening - midnight</td>\n",
       "      <td>4490</td>\n",
       "    </tr>\n",
       "    <tr>\n",
       "      <th>3</th>\n",
       "      <td>early morning</td>\n",
       "      <td>4415</td>\n",
       "    </tr>\n",
       "    <tr>\n",
       "      <th>4</th>\n",
       "      <td>late morning</td>\n",
       "      <td>4154</td>\n",
       "    </tr>\n",
       "    <tr>\n",
       "      <th>5</th>\n",
       "      <td>midday-noon</td>\n",
       "      <td>4023</td>\n",
       "    </tr>\n",
       "    <tr>\n",
       "      <th>6</th>\n",
       "      <td>morning</td>\n",
       "      <td>3817</td>\n",
       "    </tr>\n",
       "    <tr>\n",
       "      <th>7</th>\n",
       "      <td>middle of night</td>\n",
       "      <td>3780</td>\n",
       "    </tr>\n",
       "  </tbody>\n",
       "</table>\n",
       "</div>"
      ],
      "text/plain": [
       "                     index  time_period\n",
       "0                afternoon         4586\n",
       "1                  evening         4539\n",
       "2  late evening - midnight         4490\n",
       "3            early morning         4415\n",
       "4             late morning         4154\n",
       "5              midday-noon         4023\n",
       "6                  morning         3817\n",
       "7          middle of night         3780"
      ]
     },
     "execution_count": 51,
     "metadata": {},
     "output_type": "execute_result"
    }
   ],
   "source": [
    "period = adopted_users_df.time_period.value_counts().to_frame()\n",
    "period.rename_axis(columns={'time_period': 'total_users'}, inplace=True)\n",
    "period.reset_index(inplace=True)\n",
    "period.rename_axis(columns={'index':'time_period'}, inplace=True)\n",
    "period"
   ]
  },
  {
   "cell_type": "code",
   "execution_count": 52,
   "id": "59868bb1",
   "metadata": {},
   "outputs": [
    {
     "data": {
      "image/png": "[encoded data removed]",
      "text/plain": [
       "<Figure size 720x480 with 1 Axes>"
      ]
     },
     "metadata": {},
     "output_type": "display_data"
    }
   ],
   "source": [
    "adopted_users_df.time_period.value_counts().plot(kind='pie', autopct=\"%1.1f%%\", explode=(0.1, 0,0,0,0,0,0,0))\n",
    "plt.title(\"Adopted users active hours\")\n",
    "plt.ylabel('');"
   ]
  },
  {
   "cell_type": "markdown",
   "id": "735ea61e",
   "metadata": {},
   "source": [
    "## Insights from the User Engagement data:\n",
    "\n",
    "---\n",
    "\n",
    "1. There are 8823 (73.52%) active users, out of which 1432 (== 12%) are adopted users.\n",
    "2. 28.4% adopted users visit the site 3 times in a week. Similarly, 22.1% visits 4 times, 19.4% visits 7 times and only 13.3% visits 6 times in a week. "
   ]
  },
  {
   "cell_type": "code",
   "execution_count": null,
   "id": "01edf91e",
   "metadata": {},
   "outputs": [],
   "source": []
  },
  {
   "cell_type": "code",
   "execution_count": null,
   "id": "64050fc3",
   "metadata": {},
   "outputs": [],
   "source": []
  },
  {
   "cell_type": "code",
   "execution_count": null,
   "id": "7f3c197b",
   "metadata": {},
   "outputs": [],
   "source": []
  }
 ],
 "metadata": {
  "kernelspec": {
   "display_name": "Python 3",
   "language": "python",
   "name": "python3"
  },
  "language_info": {
   "codemirror_mode": {
    "name": "ipython",
    "version": 3
   },
   "file_extension": ".py",
   "mimetype": "text/x-python",
   "name": "python",
   "nbconvert_exporter": "python",
   "pygments_lexer": "ipython3",
   "version": "3.8.8"
  }
 },
 "nbformat": 4,
 "nbformat_minor": 5
}
